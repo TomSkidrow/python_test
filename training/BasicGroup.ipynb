{
 "cells": [
  {
   "cell_type": "code",
   "execution_count": 7,
   "metadata": {},
   "outputs": [
    {
     "data": {
      "text/html": [
       "<div>\n",
       "<style scoped>\n",
       "    .dataframe tbody tr th:only-of-type {\n",
       "        vertical-align: middle;\n",
       "    }\n",
       "\n",
       "    .dataframe tbody tr th {\n",
       "        vertical-align: top;\n",
       "    }\n",
       "\n",
       "    .dataframe thead th {\n",
       "        text-align: right;\n",
       "    }\n",
       "</style>\n",
       "<table border=\"1\" class=\"dataframe\">\n",
       "  <thead>\n",
       "    <tr style=\"text-align: right;\">\n",
       "      <th></th>\n",
       "      <th>เพศ</th>\n",
       "      <th>เงินดือน</th>\n",
       "    </tr>\n",
       "    <tr>\n",
       "      <th>เพศ</th>\n",
       "      <th></th>\n",
       "      <th></th>\n",
       "    </tr>\n",
       "  </thead>\n",
       "  <tbody>\n",
       "    <tr>\n",
       "      <th>F</th>\n",
       "      <td>FFFF</td>\n",
       "      <td>72500</td>\n",
       "    </tr>\n",
       "    <tr>\n",
       "      <th>M</th>\n",
       "      <td>MMMM</td>\n",
       "      <td>72600</td>\n",
       "    </tr>\n",
       "  </tbody>\n",
       "</table>\n",
       "</div>"
      ],
      "text/plain": [
       "      เพศ  เงินดือน\n",
       "เพศ                \n",
       "F    FFFF     72500\n",
       "M    MMMM     72600"
      ]
     },
     "execution_count": 7,
     "metadata": {},
     "output_type": "execute_result"
    }
   ],
   "source": [
    "import pandas as pd\n",
    "\n",
    "data = [\n",
    "    ['สมชาย',185,16000,'M'],['สมใจ',163,17500,'F'],\n",
    "    ['พรชัย',182,20000,'M'],['วีระ',183,19200,'M'],\n",
    "    ['ดวงพร',166,18500,'F'],['วิไล',165,19700,'F'],\n",
    "    ['ปิยะพร',160,16800,'F'],['บุญเลิศ',179,17400,'M']\n",
    "]\n",
    "\n",
    "colsname = ['ชื่อ','ส่วนสูง','เงินดือน','เพศ']\n",
    "df = pd.DataFrame(data,columns=colsname)\n",
    "\n",
    "df_group = df.groupby(['เพศ'])[['เพศ','เงินดือน']].sum()\n",
    "df_group"
   ]
  }
 ],
 "metadata": {
  "kernelspec": {
   "display_name": "Python 3",
   "language": "python",
   "name": "python3"
  },
  "language_info": {
   "codemirror_mode": {
    "name": "ipython",
    "version": 3
   },
   "file_extension": ".py",
   "mimetype": "text/x-python",
   "name": "python",
   "nbconvert_exporter": "python",
   "pygments_lexer": "ipython3",
   "version": "3.11.4"
  },
  "orig_nbformat": 4
 },
 "nbformat": 4,
 "nbformat_minor": 2
}
