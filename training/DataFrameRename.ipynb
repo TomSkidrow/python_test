{
 "cells": [
  {
   "cell_type": "code",
   "execution_count": 5,
   "metadata": {},
   "outputs": [
    {
     "data": {
      "text/html": [
       "<div>\n",
       "<style scoped>\n",
       "    .dataframe tbody tr th:only-of-type {\n",
       "        vertical-align: middle;\n",
       "    }\n",
       "\n",
       "    .dataframe tbody tr th {\n",
       "        vertical-align: top;\n",
       "    }\n",
       "\n",
       "    .dataframe thead th {\n",
       "        text-align: right;\n",
       "    }\n",
       "</style>\n",
       "<table border=\"1\" class=\"dataframe\">\n",
       "  <thead>\n",
       "    <tr style=\"text-align: right;\">\n",
       "      <th></th>\n",
       "      <th>ชื่อ</th>\n",
       "      <th>ส่วนสูง</th>\n",
       "      <th>เงินเดือน</th>\n",
       "    </tr>\n",
       "  </thead>\n",
       "  <tbody>\n",
       "    <tr>\n",
       "      <th>0</th>\n",
       "      <td>สมชาย</td>\n",
       "      <td>185</td>\n",
       "      <td>16000</td>\n",
       "    </tr>\n",
       "    <tr>\n",
       "      <th>1</th>\n",
       "      <td>วีระชัย</td>\n",
       "      <td>175</td>\n",
       "      <td>17500</td>\n",
       "    </tr>\n",
       "    <tr>\n",
       "      <th>2</th>\n",
       "      <td>พรชัย</td>\n",
       "      <td>182</td>\n",
       "      <td>20000</td>\n",
       "    </tr>\n",
       "    <tr>\n",
       "      <th>3</th>\n",
       "      <td>วีระ</td>\n",
       "      <td>183</td>\n",
       "      <td>19900</td>\n",
       "    </tr>\n",
       "  </tbody>\n",
       "</table>\n",
       "</div>"
      ],
      "text/plain": [
       "      ชื่อ  ส่วนสูง  เงินเดือน\n",
       "0    สมชาย      185      16000\n",
       "1  วีระชัย      175      17500\n",
       "2    พรชัย      182      20000\n",
       "3     วีระ      183      19900"
      ]
     },
     "execution_count": 5,
     "metadata": {},
     "output_type": "execute_result"
    }
   ],
   "source": [
    "import pandas as pd\n",
    "\n",
    "data =[ ['สมชาย',185,16000],['วีระชัย',175,17500],\n",
    "       ['พรชัย',182,20000],['วีระ',183,19900]\n",
    "       ]\n",
    "\n",
    "colsname = ['ชื่อ','ส่วนสูง','เงินเดือน']\n",
    "df1 = pd.DataFrame(data, columns=colsname)\n",
    "# df2 = df1.rename(columns=\n",
    "#                  {\n",
    "#                      'ชื่อ': 'Name',\n",
    "#                      'ส่วนสูง': 'Height',\n",
    "#                      'เงินเดือน': 'Salary'\n",
    "#                  })\n",
    "\n",
    "df1\n",
    "# df2"
   ]
  }
 ],
 "metadata": {
  "kernelspec": {
   "display_name": "Python 3",
   "language": "python",
   "name": "python3"
  },
  "language_info": {
   "codemirror_mode": {
    "name": "ipython",
    "version": 3
   },
   "file_extension": ".py",
   "mimetype": "text/x-python",
   "name": "python",
   "nbconvert_exporter": "python",
   "pygments_lexer": "ipython3",
   "version": "3.11.4"
  },
  "orig_nbformat": 4
 },
 "nbformat": 4,
 "nbformat_minor": 2
}
