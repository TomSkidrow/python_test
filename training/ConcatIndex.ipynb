{
 "cells": [
  {
   "cell_type": "code",
   "execution_count": 11,
   "metadata": {},
   "outputs": [
    {
     "data": {
      "text/html": [
       "<div>\n",
       "<style scoped>\n",
       "    .dataframe tbody tr th:only-of-type {\n",
       "        vertical-align: middle;\n",
       "    }\n",
       "\n",
       "    .dataframe tbody tr th {\n",
       "        vertical-align: top;\n",
       "    }\n",
       "\n",
       "    .dataframe thead th {\n",
       "        text-align: right;\n",
       "    }\n",
       "</style>\n",
       "<table border=\"1\" class=\"dataframe\">\n",
       "  <thead>\n",
       "    <tr style=\"text-align: right;\">\n",
       "      <th></th>\n",
       "      <th>ชื่อ</th>\n",
       "      <th>ส่วนสูง</th>\n",
       "      <th>เงินเดือน</th>\n",
       "    </tr>\n",
       "  </thead>\n",
       "  <tbody>\n",
       "    <tr>\n",
       "      <th>2</th>\n",
       "      <td>พรชัย</td>\n",
       "      <td>182</td>\n",
       "      <td>20000</td>\n",
       "    </tr>\n",
       "    <tr>\n",
       "      <th>3</th>\n",
       "      <td>วีระ</td>\n",
       "      <td>183</td>\n",
       "      <td>19900</td>\n",
       "    </tr>\n",
       "  </tbody>\n",
       "</table>\n",
       "</div>"
      ],
      "text/plain": [
       "    ชื่อ  ส่วนสูง  เงินเดือน\n",
       "2  พรชัย      182      20000\n",
       "3   วีระ      183      19900"
      ]
     },
     "execution_count": 11,
     "metadata": {},
     "output_type": "execute_result"
    }
   ],
   "source": [
    "import pandas as pd\n",
    "\n",
    "# data1 = {\n",
    "#     'CustomerID':[100,201,102],\n",
    "#     'FullName':['ศุภชัย','ดวงพร','สมใจ']\n",
    "# }\n",
    "# data2 = {\n",
    "#     'Salary':[20000,19500,18600]\n",
    "# }\n",
    "\n",
    "# df1 = pd.DataFrame(data1,index=[1,2,3])\n",
    "# df2 = pd.DataFrame(data2,index=[1,2,3])\n",
    "\n",
    "# result = pd.concat([df1,df2],axis=1)\n",
    "# result\n",
    "\n",
    "data = [\n",
    "    ['สมชาย',185,16000],['วีระชัย',175,17500],\n",
    "    ['พรชัย',182,20000],['วีระ',183,19900]\n",
    "]\n",
    "\n",
    "colsname = ['ชื่อ','ส่วนสูง','เงินเดือน']\n",
    "df = pd.DataFrame(data,columns=colsname)\n",
    "\n",
    "# result = df.loc[0]\n",
    "# result = df.loc[[0,3]]\n",
    "# result = df.loc[0,'ชื่อ']\n",
    "# result = df.loc[0:2]\n",
    "# result = df.loc[0:2,'ชื่อ']\n",
    "# result = df.loc[[True,True,False,True]]\n",
    "result = df.loc[df['เงินเดือน']>=18000]\n",
    "result"
   ]
  }
 ],
 "metadata": {
  "kernelspec": {
   "display_name": "Python 3",
   "language": "python",
   "name": "python3"
  },
  "language_info": {
   "codemirror_mode": {
    "name": "ipython",
    "version": 3
   },
   "file_extension": ".py",
   "mimetype": "text/x-python",
   "name": "python",
   "nbconvert_exporter": "python",
   "pygments_lexer": "ipython3",
   "version": "3.11.4"
  },
  "orig_nbformat": 4
 },
 "nbformat": 4,
 "nbformat_minor": 2
}
