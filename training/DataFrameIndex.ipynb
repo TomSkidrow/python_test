{
 "cells": [
  {
   "cell_type": "code",
   "execution_count": 2,
   "metadata": {},
   "outputs": [
    {
     "data": {
      "text/plain": [
       "'สมชาย'"
      ]
     },
     "execution_count": 2,
     "metadata": {},
     "output_type": "execute_result"
    }
   ],
   "source": [
    "import pandas as pd\n",
    "\n",
    "data = [\n",
    "    ['สมชาย', 185, 16000], ['วีระชัย', 175, 17500],\n",
    "    ['พรชัย', 182, 20000], ['วีระ', 183, 19900]\n",
    "]\n",
    "\n",
    "colsname = ['ชื่อ', 'ส่วนสูง', 'เงินเดือน']\n",
    "\n",
    "# df = pd.DataFrame(data, columns=colsname)\n",
    "df = pd.DataFrame(data, columns=colsname,index=['A','B','C','D']) \n",
    "\n",
    "# df\n",
    "df['ชื่อ']['A']"
   ]
  }
 ],
 "metadata": {
  "kernelspec": {
   "display_name": "Python 3",
   "language": "python",
   "name": "python3"
  },
  "language_info": {
   "codemirror_mode": {
    "name": "ipython",
    "version": 3
   },
   "file_extension": ".py",
   "mimetype": "text/x-python",
   "name": "python",
   "nbconvert_exporter": "python",
   "pygments_lexer": "ipython3",
   "version": "3.11.4"
  },
  "orig_nbformat": 4
 },
 "nbformat": 4,
 "nbformat_minor": 2
}
